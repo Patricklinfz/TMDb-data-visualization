{
 "cells": [
  {
   "cell_type": "markdown",
   "metadata": {},
   "source": [
    "# Exploration of TMDB Movie Data\n",
    "## Table of Contents\n",
    "<ul>\n",
    "<li><a href=\"#wrangling\">Preliminary Wrangling</a></li>\n",
    "<li><a href=\"#uni\">Univariate Exploration</a></li>\n",
    "<li><a href=\"#bi\">Bivariate Exploration</a></li>\n",
    "<li><a href=\"#multi\">Multiariate Exploration</a></li>\n",
    "</ul>"
   ]
  },
  {
   "cell_type": "markdown",
   "metadata": {},
   "source": [
    "<a id='wrangling'></a>\n",
    "## Preliminary Wrangling\n",
    "<br>\n",
    "The dataset contains information over 10,000 movies from 1960 to 2015."
   ]
  },
  {
   "cell_type": "code",
   "execution_count": 1,
   "metadata": {},
   "outputs": [],
   "source": [
    "# import packages\n",
    "import numpy as np\n",
    "import pandas as pd\n",
    "import matplotlib.pyplot as plt\n",
    "import seaborn as sns\n",
    "# set plot style\n",
    "sns.set_style('darkgrid')\n",
    "# use magic command to embed visualization in notebook\n",
    "%matplotlib inline"
   ]
  },
  {
   "cell_type": "code",
   "execution_count": 2,
   "metadata": {},
   "outputs": [],
   "source": [
    "# load dataset into a pandas dataframe\n",
    "df = pd.read_csv('tmdb-movies.csv')"
   ]
  },
  {
   "cell_type": "code",
   "execution_count": 3,
   "metadata": {},
   "outputs": [
    {
     "name": "stdout",
     "output_type": "stream",
     "text": [
      "(10866, 21)\n",
      "<class 'pandas.core.frame.DataFrame'>\n",
      "RangeIndex: 10866 entries, 0 to 10865\n",
      "Data columns (total 21 columns):\n",
      "id                      10866 non-null int64\n",
      "imdb_id                 10856 non-null object\n",
      "popularity              10866 non-null float64\n",
      "budget                  10866 non-null int64\n",
      "revenue                 10866 non-null int64\n",
      "original_title          10866 non-null object\n",
      "cast                    10790 non-null object\n",
      "homepage                2936 non-null object\n",
      "director                10822 non-null object\n",
      "tagline                 8042 non-null object\n",
      "keywords                9373 non-null object\n",
      "overview                10862 non-null object\n",
      "runtime                 10866 non-null int64\n",
      "genres                  10843 non-null object\n",
      "production_companies    9836 non-null object\n",
      "release_date            10866 non-null object\n",
      "vote_count              10866 non-null int64\n",
      "vote_average            10866 non-null float64\n",
      "release_year            10866 non-null int64\n",
      "budget_adj              10866 non-null float64\n",
      "revenue_adj             10866 non-null float64\n",
      "dtypes: float64(4), int64(6), object(11)\n",
      "memory usage: 1.7+ MB\n",
      "None\n"
     ]
    },
    {
     "data": {
      "text/html": [
       "<div>\n",
       "<style scoped>\n",
       "    .dataframe tbody tr th:only-of-type {\n",
       "        vertical-align: middle;\n",
       "    }\n",
       "\n",
       "    .dataframe tbody tr th {\n",
       "        vertical-align: top;\n",
       "    }\n",
       "\n",
       "    .dataframe thead th {\n",
       "        text-align: right;\n",
       "    }\n",
       "</style>\n",
       "<table border=\"1\" class=\"dataframe\">\n",
       "  <thead>\n",
       "    <tr style=\"text-align: right;\">\n",
       "      <th></th>\n",
       "      <th>id</th>\n",
       "      <th>imdb_id</th>\n",
       "      <th>popularity</th>\n",
       "      <th>budget</th>\n",
       "      <th>revenue</th>\n",
       "      <th>original_title</th>\n",
       "      <th>cast</th>\n",
       "      <th>homepage</th>\n",
       "      <th>director</th>\n",
       "      <th>tagline</th>\n",
       "      <th>...</th>\n",
       "      <th>overview</th>\n",
       "      <th>runtime</th>\n",
       "      <th>genres</th>\n",
       "      <th>production_companies</th>\n",
       "      <th>release_date</th>\n",
       "      <th>vote_count</th>\n",
       "      <th>vote_average</th>\n",
       "      <th>release_year</th>\n",
       "      <th>budget_adj</th>\n",
       "      <th>revenue_adj</th>\n",
       "    </tr>\n",
       "  </thead>\n",
       "  <tbody>\n",
       "    <tr>\n",
       "      <th>0</th>\n",
       "      <td>135397</td>\n",
       "      <td>tt0369610</td>\n",
       "      <td>32.985763</td>\n",
       "      <td>150000000</td>\n",
       "      <td>1513528810</td>\n",
       "      <td>Jurassic World</td>\n",
       "      <td>Chris Pratt|Bryce Dallas Howard|Irrfan Khan|Vi...</td>\n",
       "      <td>http://www.jurassicworld.com/</td>\n",
       "      <td>Colin Trevorrow</td>\n",
       "      <td>The park is open.</td>\n",
       "      <td>...</td>\n",
       "      <td>Twenty-two years after the events of Jurassic ...</td>\n",
       "      <td>124</td>\n",
       "      <td>Action|Adventure|Science Fiction|Thriller</td>\n",
       "      <td>Universal Studios|Amblin Entertainment|Legenda...</td>\n",
       "      <td>6/9/15</td>\n",
       "      <td>5562</td>\n",
       "      <td>6.5</td>\n",
       "      <td>2015</td>\n",
       "      <td>1.379999e+08</td>\n",
       "      <td>1.392446e+09</td>\n",
       "    </tr>\n",
       "    <tr>\n",
       "      <th>1</th>\n",
       "      <td>76341</td>\n",
       "      <td>tt1392190</td>\n",
       "      <td>28.419936</td>\n",
       "      <td>150000000</td>\n",
       "      <td>378436354</td>\n",
       "      <td>Mad Max: Fury Road</td>\n",
       "      <td>Tom Hardy|Charlize Theron|Hugh Keays-Byrne|Nic...</td>\n",
       "      <td>http://www.madmaxmovie.com/</td>\n",
       "      <td>George Miller</td>\n",
       "      <td>What a Lovely Day.</td>\n",
       "      <td>...</td>\n",
       "      <td>An apocalyptic story set in the furthest reach...</td>\n",
       "      <td>120</td>\n",
       "      <td>Action|Adventure|Science Fiction|Thriller</td>\n",
       "      <td>Village Roadshow Pictures|Kennedy Miller Produ...</td>\n",
       "      <td>5/13/15</td>\n",
       "      <td>6185</td>\n",
       "      <td>7.1</td>\n",
       "      <td>2015</td>\n",
       "      <td>1.379999e+08</td>\n",
       "      <td>3.481613e+08</td>\n",
       "    </tr>\n",
       "    <tr>\n",
       "      <th>2</th>\n",
       "      <td>262500</td>\n",
       "      <td>tt2908446</td>\n",
       "      <td>13.112507</td>\n",
       "      <td>110000000</td>\n",
       "      <td>295238201</td>\n",
       "      <td>Insurgent</td>\n",
       "      <td>Shailene Woodley|Theo James|Kate Winslet|Ansel...</td>\n",
       "      <td>http://www.thedivergentseries.movie/#insurgent</td>\n",
       "      <td>Robert Schwentke</td>\n",
       "      <td>One Choice Can Destroy You</td>\n",
       "      <td>...</td>\n",
       "      <td>Beatrice Prior must confront her inner demons ...</td>\n",
       "      <td>119</td>\n",
       "      <td>Adventure|Science Fiction|Thriller</td>\n",
       "      <td>Summit Entertainment|Mandeville Films|Red Wago...</td>\n",
       "      <td>3/18/15</td>\n",
       "      <td>2480</td>\n",
       "      <td>6.3</td>\n",
       "      <td>2015</td>\n",
       "      <td>1.012000e+08</td>\n",
       "      <td>2.716190e+08</td>\n",
       "    </tr>\n",
       "  </tbody>\n",
       "</table>\n",
       "<p>3 rows × 21 columns</p>\n",
       "</div>"
      ],
      "text/plain": [
       "       id    imdb_id  popularity     budget     revenue      original_title  \\\n",
       "0  135397  tt0369610   32.985763  150000000  1513528810      Jurassic World   \n",
       "1   76341  tt1392190   28.419936  150000000   378436354  Mad Max: Fury Road   \n",
       "2  262500  tt2908446   13.112507  110000000   295238201           Insurgent   \n",
       "\n",
       "                                                cast  \\\n",
       "0  Chris Pratt|Bryce Dallas Howard|Irrfan Khan|Vi...   \n",
       "1  Tom Hardy|Charlize Theron|Hugh Keays-Byrne|Nic...   \n",
       "2  Shailene Woodley|Theo James|Kate Winslet|Ansel...   \n",
       "\n",
       "                                         homepage          director  \\\n",
       "0                   http://www.jurassicworld.com/   Colin Trevorrow   \n",
       "1                     http://www.madmaxmovie.com/     George Miller   \n",
       "2  http://www.thedivergentseries.movie/#insurgent  Robert Schwentke   \n",
       "\n",
       "                      tagline      ...       \\\n",
       "0           The park is open.      ...        \n",
       "1          What a Lovely Day.      ...        \n",
       "2  One Choice Can Destroy You      ...        \n",
       "\n",
       "                                            overview runtime  \\\n",
       "0  Twenty-two years after the events of Jurassic ...     124   \n",
       "1  An apocalyptic story set in the furthest reach...     120   \n",
       "2  Beatrice Prior must confront her inner demons ...     119   \n",
       "\n",
       "                                      genres  \\\n",
       "0  Action|Adventure|Science Fiction|Thriller   \n",
       "1  Action|Adventure|Science Fiction|Thriller   \n",
       "2         Adventure|Science Fiction|Thriller   \n",
       "\n",
       "                                production_companies release_date vote_count  \\\n",
       "0  Universal Studios|Amblin Entertainment|Legenda...       6/9/15       5562   \n",
       "1  Village Roadshow Pictures|Kennedy Miller Produ...      5/13/15       6185   \n",
       "2  Summit Entertainment|Mandeville Films|Red Wago...      3/18/15       2480   \n",
       "\n",
       "   vote_average  release_year    budget_adj   revenue_adj  \n",
       "0           6.5          2015  1.379999e+08  1.392446e+09  \n",
       "1           7.1          2015  1.379999e+08  3.481613e+08  \n",
       "2           6.3          2015  1.012000e+08  2.716190e+08  \n",
       "\n",
       "[3 rows x 21 columns]"
      ]
     },
     "execution_count": 3,
     "metadata": {},
     "output_type": "execute_result"
    }
   ],
   "source": [
    "# get high-level overview of data shape and composition\n",
    "print(df.shape)\n",
    "print(df.info())\n",
    "df.head(3)"
   ]
  },
  {
   "cell_type": "markdown",
   "metadata": {},
   "source": [
    "**Quality Issue 1**: extraneous columns <br>"
   ]
  },
  {
   "cell_type": "markdown",
   "metadata": {},
   "source": [
    "`Reasoning`: <br>\n",
    "- imdb_id is extraneous given id exists <br>\n",
    "- budget_adj, revenue_adj are budget and revenue values adjusted for inflation. I favor them over budget and revenue when exploring trends over time <br> \n",
    "- cast, homepage, tageline, overview, production_companies won't be used in analyzing my features of interest <br>\n",
    "- release_year is good enough, so I don't need release_year <br>"
   ]
  },
  {
   "cell_type": "markdown",
   "metadata": {},
   "source": [
    "**Cleaning Quality Issue 1**: drop extraneous columns"
   ]
  },
  {
   "cell_type": "code",
   "execution_count": 4,
   "metadata": {},
   "outputs": [],
   "source": [
    "# make a copy of the dataset\n",
    "df_clean = df.copy()\n",
    "# drop columns not used in my analysis\n",
    "df_clean.drop(columns = ['imdb_id', 'budget', 'revenue', 'cast', 'homepage', 'tagline', 'overview',\n",
    "                         'production_companies', 'release_date'], inplace = True)"
   ]
  },
  {
   "cell_type": "markdown",
   "metadata": {},
   "source": [
    "**Quality Issue 2**: keywords, genres with multiple values separated by \" | \" <br>"
   ]
  },
  {
   "cell_type": "markdown",
   "metadata": {},
   "source": [
    "**Cleaning Quality Issue 2**: no action"
   ]
  },
  {
   "cell_type": "markdown",
   "metadata": {},
   "source": [
    "`Reasoning`: <br>\n",
    "keywords, genres contain multiple values seperated by verticle bar in each cell. <br> But I won't do any change because each movie is usually with more than one genres and keywords for summary. <br> The table would be very huge if I split each of them into seperate rows."
   ]
  },
  {
   "cell_type": "markdown",
   "metadata": {},
   "source": [
    "**Quality Issue 3**: columns containing null values <br>"
   ]
  },
  {
   "cell_type": "code",
   "execution_count": 5,
   "metadata": {},
   "outputs": [
    {
     "name": "stdout",
     "output_type": "stream",
     "text": [
      "3\n",
      "['director', 'keywords', 'genres']\n"
     ]
    }
   ],
   "source": [
    "# get all columns containing null values\n",
    "c_null = []\n",
    "for c in df_clean.columns:\n",
    "    if not df_clean[c].isnull().sum()==0:\n",
    "        c_null.append(c)\n",
    "print(len(c_null))\n",
    "print(c_null)"
   ]
  },
  {
   "cell_type": "markdown",
   "metadata": {},
   "source": [
    "**Cleaning Quality Issue 3**: drop only column(s) with insignificant amount of null values"
   ]
  },
  {
   "cell_type": "code",
   "execution_count": 6,
   "metadata": {},
   "outputs": [
    {
     "name": "stdout",
     "output_type": "stream",
     "text": [
      "director 44\n",
      "keywords 1493\n",
      "genres 23\n"
     ]
    }
   ],
   "source": [
    "# check the number of null values\n",
    "for c in c_null:\n",
    "    sum_null = df_clean[c].isnull().sum()\n",
    "    print(c, sum_null)"
   ]
  },
  {
   "cell_type": "markdown",
   "metadata": {},
   "source": [
    "`Reasoning`: <br>\n",
    "The totals of the null values in director and genres are insignificant. <br>\n",
    "Dropping them won't impact data integrity."
   ]
  },
  {
   "cell_type": "code",
   "execution_count": 7,
   "metadata": {},
   "outputs": [],
   "source": [
    "# drop null from two columns\n",
    "c_drop = ['director','genres']\n",
    "df_clean.dropna(subset = c_drop, inplace = True)"
   ]
  },
  {
   "cell_type": "markdown",
   "metadata": {},
   "source": [
    "`Reasoning`: <br>\n",
    "keywords has a considerable amount of null values. <br> Dropping them has the side effect of losing valuable information on those records, and thus impact data integrity. <br> I decide to keep null values in keywords."
   ]
  },
  {
   "cell_type": "markdown",
   "metadata": {},
   "source": [
    "**Quality Issue 4**: id is integer not string"
   ]
  },
  {
   "cell_type": "markdown",
   "metadata": {},
   "source": [
    "**Cleaning Quality Issue 4**: convert id from integer to string"
   ]
  },
  {
   "cell_type": "code",
   "execution_count": 8,
   "metadata": {},
   "outputs": [],
   "source": [
    "# convert id datatype\n",
    "df_clean.id = df_clean.id.astype(str)"
   ]
  },
  {
   "cell_type": "markdown",
   "metadata": {},
   "source": [
    "**Quality Issue 5**: 1 duplicated record"
   ]
  },
  {
   "cell_type": "code",
   "execution_count": 9,
   "metadata": {},
   "outputs": [
    {
     "data": {
      "text/plain": [
       "1"
      ]
     },
     "execution_count": 9,
     "metadata": {},
     "output_type": "execute_result"
    }
   ],
   "source": [
    "# check duplicates\n",
    "df_clean.duplicated().sum()"
   ]
  },
  {
   "cell_type": "markdown",
   "metadata": {},
   "source": [
    "**Cleaning Quality Issue 5**: drop duplicated record"
   ]
  },
  {
   "cell_type": "code",
   "execution_count": 10,
   "metadata": {},
   "outputs": [],
   "source": [
    "# dedupe\n",
    "df_clean.drop_duplicates(inplace = True)"
   ]
  },
  {
   "cell_type": "markdown",
   "metadata": {},
   "source": [
    "**Quality Issue 6**: small amount of missing values (0) in runtime; significant amount in budget_adj, revenue_adj"
   ]
  },
  {
   "cell_type": "code",
   "execution_count": 11,
   "metadata": {},
   "outputs": [
    {
     "data": {
      "text/html": [
       "<div>\n",
       "<style scoped>\n",
       "    .dataframe tbody tr th:only-of-type {\n",
       "        vertical-align: middle;\n",
       "    }\n",
       "\n",
       "    .dataframe tbody tr th {\n",
       "        vertical-align: top;\n",
       "    }\n",
       "\n",
       "    .dataframe thead th {\n",
       "        text-align: right;\n",
       "    }\n",
       "</style>\n",
       "<table border=\"1\" class=\"dataframe\">\n",
       "  <thead>\n",
       "    <tr style=\"text-align: right;\">\n",
       "      <th></th>\n",
       "      <th>popularity</th>\n",
       "      <th>runtime</th>\n",
       "      <th>vote_count</th>\n",
       "      <th>vote_average</th>\n",
       "      <th>release_year</th>\n",
       "      <th>budget_adj</th>\n",
       "      <th>revenue_adj</th>\n",
       "    </tr>\n",
       "  </thead>\n",
       "  <tbody>\n",
       "    <tr>\n",
       "      <th>count</th>\n",
       "      <td>10800.000000</td>\n",
       "      <td>10800.000000</td>\n",
       "      <td>10800.000000</td>\n",
       "      <td>10800.000000</td>\n",
       "      <td>10800.000000</td>\n",
       "      <td>1.080000e+04</td>\n",
       "      <td>1.080000e+04</td>\n",
       "    </tr>\n",
       "    <tr>\n",
       "      <th>mean</th>\n",
       "      <td>0.649455</td>\n",
       "      <td>102.189722</td>\n",
       "      <td>218.600741</td>\n",
       "      <td>5.970880</td>\n",
       "      <td>2001.289537</td>\n",
       "      <td>1.765437e+07</td>\n",
       "      <td>5.167714e+07</td>\n",
       "    </tr>\n",
       "    <tr>\n",
       "      <th>std</th>\n",
       "      <td>1.002441</td>\n",
       "      <td>30.783873</td>\n",
       "      <td>577.165055</td>\n",
       "      <td>0.933006</td>\n",
       "      <td>12.819545</td>\n",
       "      <td>3.438403e+07</td>\n",
       "      <td>1.450182e+08</td>\n",
       "    </tr>\n",
       "    <tr>\n",
       "      <th>min</th>\n",
       "      <td>0.000188</td>\n",
       "      <td>0.000000</td>\n",
       "      <td>10.000000</td>\n",
       "      <td>1.500000</td>\n",
       "      <td>1960.000000</td>\n",
       "      <td>0.000000e+00</td>\n",
       "      <td>0.000000e+00</td>\n",
       "    </tr>\n",
       "    <tr>\n",
       "      <th>25%</th>\n",
       "      <td>0.209157</td>\n",
       "      <td>90.000000</td>\n",
       "      <td>17.000000</td>\n",
       "      <td>5.400000</td>\n",
       "      <td>1995.000000</td>\n",
       "      <td>0.000000e+00</td>\n",
       "      <td>0.000000e+00</td>\n",
       "    </tr>\n",
       "    <tr>\n",
       "      <th>50%</th>\n",
       "      <td>0.385471</td>\n",
       "      <td>99.000000</td>\n",
       "      <td>39.000000</td>\n",
       "      <td>6.000000</td>\n",
       "      <td>2006.000000</td>\n",
       "      <td>0.000000e+00</td>\n",
       "      <td>0.000000e+00</td>\n",
       "    </tr>\n",
       "    <tr>\n",
       "      <th>75%</th>\n",
       "      <td>0.717508</td>\n",
       "      <td>111.250000</td>\n",
       "      <td>147.000000</td>\n",
       "      <td>6.600000</td>\n",
       "      <td>2011.000000</td>\n",
       "      <td>2.103337e+07</td>\n",
       "      <td>3.408743e+07</td>\n",
       "    </tr>\n",
       "    <tr>\n",
       "      <th>max</th>\n",
       "      <td>32.985763</td>\n",
       "      <td>900.000000</td>\n",
       "      <td>9767.000000</td>\n",
       "      <td>9.200000</td>\n",
       "      <td>2015.000000</td>\n",
       "      <td>4.250000e+08</td>\n",
       "      <td>2.827124e+09</td>\n",
       "    </tr>\n",
       "  </tbody>\n",
       "</table>\n",
       "</div>"
      ],
      "text/plain": [
       "         popularity       runtime    vote_count  vote_average  release_year  \\\n",
       "count  10800.000000  10800.000000  10800.000000  10800.000000  10800.000000   \n",
       "mean       0.649455    102.189722    218.600741      5.970880   2001.289537   \n",
       "std        1.002441     30.783873    577.165055      0.933006     12.819545   \n",
       "min        0.000188      0.000000     10.000000      1.500000   1960.000000   \n",
       "25%        0.209157     90.000000     17.000000      5.400000   1995.000000   \n",
       "50%        0.385471     99.000000     39.000000      6.000000   2006.000000   \n",
       "75%        0.717508    111.250000    147.000000      6.600000   2011.000000   \n",
       "max       32.985763    900.000000   9767.000000      9.200000   2015.000000   \n",
       "\n",
       "         budget_adj   revenue_adj  \n",
       "count  1.080000e+04  1.080000e+04  \n",
       "mean   1.765437e+07  5.167714e+07  \n",
       "std    3.438403e+07  1.450182e+08  \n",
       "min    0.000000e+00  0.000000e+00  \n",
       "25%    0.000000e+00  0.000000e+00  \n",
       "50%    0.000000e+00  0.000000e+00  \n",
       "75%    2.103337e+07  3.408743e+07  \n",
       "max    4.250000e+08  2.827124e+09  "
      ]
     },
     "execution_count": 11,
     "metadata": {},
     "output_type": "execute_result"
    }
   ],
   "source": [
    "# get statistical summary of the dataset\n",
    "df_clean.describe()"
   ]
  },
  {
   "cell_type": "markdown",
   "metadata": {},
   "source": [
    "In the statistical summary, I observe runtime, budget_adj, revenue_adj with values of 0. This is worth looking into. "
   ]
  },
  {
   "cell_type": "code",
   "execution_count": 12,
   "metadata": {},
   "outputs": [
    {
     "name": "stdout",
     "output_type": "stream",
     "text": [
      "runtime 28\n",
      "budget_adj 5636\n",
      "revenue_adj 5952\n"
     ]
    }
   ],
   "source": [
    "# get the counts of 0 values for the columns  \n",
    "c_zero = ['runtime', 'budget_adj', 'revenue_adj']\n",
    "for c in c_zero:\n",
    "    count_zero = df_clean.groupby(c).count()['id'][0]\n",
    "    print(c, count_zero)"
   ]
  },
  {
   "cell_type": "markdown",
   "metadata": {},
   "source": [
    "**Quality Issue 6**: \n",
    "- drop zero from runtime with small count of zero\n",
    "- replace zero with null for columns budget_adj, revenue_adj with significant counts"
   ]
  },
  {
   "cell_type": "code",
   "execution_count": 13,
   "metadata": {},
   "outputs": [],
   "source": [
    "# drop zero values of runtime column\n",
    "df_clean = df_clean.query('runtime != 0')"
   ]
  },
  {
   "cell_type": "markdown",
   "metadata": {},
   "source": [
    "`Reasoning`: <br>\n",
    "budget_adj, revenue_adj both have significant amount of zero values. Dropping their zero values will impact data integrity. So instead, I replace 0 with Null using `np.NaN`."
   ]
  },
  {
   "cell_type": "code",
   "execution_count": 14,
   "metadata": {},
   "outputs": [
    {
     "data": {
      "text/plain": [
       "[None, None]"
      ]
     },
     "execution_count": 14,
     "metadata": {},
     "output_type": "execute_result"
    }
   ],
   "source": [
    "# replace 0 with null in budget_adj, revenue_adj \n",
    "c_replace = ['budget_adj', 'revenue_adj']\n",
    "[df_clean[c].replace(0, np.NaN, inplace = True) for c in c_replace]"
   ]
  },
  {
   "cell_type": "markdown",
   "metadata": {},
   "source": [
    "To facilitate my analysis, I create a new column 'decades' that categorize each individual release_year."
   ]
  },
  {
   "cell_type": "code",
   "execution_count": 15,
   "metadata": {},
   "outputs": [],
   "source": [
    "# set bin edges that will be used to cut 'release_year' data into groups\n",
    "bin_edges = [1960, 1970, 1980, 1990, 2000, 2010, 2020]\n",
    "# set bin labels for the 6 decades\n",
    "bin_labels = ['1960s','1970s', '1980s', '1990s', '2000s', '2010s']\n",
    "# create a categorical variable 'decades'\n",
    "df_clean['decades'] = pd.cut(df_clean.release_year, bin_edges, \n",
    "                                right = False, labels = bin_labels)"
   ]
  },
  {
   "cell_type": "code",
   "execution_count": 16,
   "metadata": {},
   "outputs": [
    {
     "name": "stdout",
     "output_type": "stream",
     "text": [
      "<class 'pandas.core.frame.DataFrame'>\n",
      "Int64Index: 10772 entries, 0 to 10865\n",
      "Data columns (total 13 columns):\n",
      "id                10772 non-null object\n",
      "popularity        10772 non-null float64\n",
      "original_title    10772 non-null object\n",
      "director          10772 non-null object\n",
      "keywords          9338 non-null object\n",
      "runtime           10772 non-null int64\n",
      "genres            10772 non-null object\n",
      "vote_count        10772 non-null int64\n",
      "vote_average      10772 non-null float64\n",
      "release_year      10772 non-null int64\n",
      "budget_adj        5161 non-null float64\n",
      "revenue_adj       4848 non-null float64\n",
      "decades           10772 non-null category\n",
      "dtypes: category(1), float64(4), int64(3), object(5)\n",
      "memory usage: 1.1+ MB\n"
     ]
    }
   ],
   "source": [
    "df_clean.info()"
   ]
  },
  {
   "cell_type": "markdown",
   "metadata": {},
   "source": [
    "I am interested in understanding more about horror films, so I create a new column that holds `True` if horror is in genres and `False` otherwise"
   ]
  },
  {
   "cell_type": "code",
   "execution_count": 17,
   "metadata": {},
   "outputs": [],
   "source": [
    "# convert each genres value to a list with each genre a list item\n",
    "df_clean.genres = df_clean.genres.apply(lambda x: x.split('|'))\n",
    "# create a boolean variable for the genre of horror\n",
    "df_clean['horror'] = df_clean.genres.apply(lambda x:'Horror' in x)"
   ]
  },
  {
   "cell_type": "code",
   "execution_count": 18,
   "metadata": {},
   "outputs": [
    {
     "name": "stdout",
     "output_type": "stream",
     "text": [
      "(10772, 14)\n",
      "<class 'pandas.core.frame.DataFrame'>\n",
      "Int64Index: 10772 entries, 0 to 10865\n",
      "Data columns (total 14 columns):\n",
      "id                10772 non-null object\n",
      "popularity        10772 non-null float64\n",
      "original_title    10772 non-null object\n",
      "director          10772 non-null object\n",
      "keywords          9338 non-null object\n",
      "runtime           10772 non-null int64\n",
      "genres            10772 non-null object\n",
      "vote_count        10772 non-null int64\n",
      "vote_average      10772 non-null float64\n",
      "release_year      10772 non-null int64\n",
      "budget_adj        5161 non-null float64\n",
      "revenue_adj       4848 non-null float64\n",
      "decades           10772 non-null category\n",
      "horror            10772 non-null bool\n",
      "dtypes: bool(1), category(1), float64(4), int64(3), object(5)\n",
      "memory usage: 1.1+ MB\n",
      "None\n"
     ]
    },
    {
     "data": {
      "text/html": [
       "<div>\n",
       "<style scoped>\n",
       "    .dataframe tbody tr th:only-of-type {\n",
       "        vertical-align: middle;\n",
       "    }\n",
       "\n",
       "    .dataframe tbody tr th {\n",
       "        vertical-align: top;\n",
       "    }\n",
       "\n",
       "    .dataframe thead th {\n",
       "        text-align: right;\n",
       "    }\n",
       "</style>\n",
       "<table border=\"1\" class=\"dataframe\">\n",
       "  <thead>\n",
       "    <tr style=\"text-align: right;\">\n",
       "      <th></th>\n",
       "      <th>id</th>\n",
       "      <th>popularity</th>\n",
       "      <th>original_title</th>\n",
       "      <th>director</th>\n",
       "      <th>keywords</th>\n",
       "      <th>runtime</th>\n",
       "      <th>genres</th>\n",
       "      <th>vote_count</th>\n",
       "      <th>vote_average</th>\n",
       "      <th>release_year</th>\n",
       "      <th>budget_adj</th>\n",
       "      <th>revenue_adj</th>\n",
       "      <th>decades</th>\n",
       "      <th>horror</th>\n",
       "    </tr>\n",
       "  </thead>\n",
       "  <tbody>\n",
       "    <tr>\n",
       "      <th>0</th>\n",
       "      <td>135397</td>\n",
       "      <td>32.985763</td>\n",
       "      <td>Jurassic World</td>\n",
       "      <td>Colin Trevorrow</td>\n",
       "      <td>monster|dna|tyrannosaurus rex|velociraptor|island</td>\n",
       "      <td>124</td>\n",
       "      <td>[Action, Adventure, Science Fiction, Thriller]</td>\n",
       "      <td>5562</td>\n",
       "      <td>6.5</td>\n",
       "      <td>2015</td>\n",
       "      <td>1.379999e+08</td>\n",
       "      <td>1.392446e+09</td>\n",
       "      <td>2010s</td>\n",
       "      <td>False</td>\n",
       "    </tr>\n",
       "    <tr>\n",
       "      <th>1</th>\n",
       "      <td>76341</td>\n",
       "      <td>28.419936</td>\n",
       "      <td>Mad Max: Fury Road</td>\n",
       "      <td>George Miller</td>\n",
       "      <td>future|chase|post-apocalyptic|dystopia|australia</td>\n",
       "      <td>120</td>\n",
       "      <td>[Action, Adventure, Science Fiction, Thriller]</td>\n",
       "      <td>6185</td>\n",
       "      <td>7.1</td>\n",
       "      <td>2015</td>\n",
       "      <td>1.379999e+08</td>\n",
       "      <td>3.481613e+08</td>\n",
       "      <td>2010s</td>\n",
       "      <td>False</td>\n",
       "    </tr>\n",
       "    <tr>\n",
       "      <th>2</th>\n",
       "      <td>262500</td>\n",
       "      <td>13.112507</td>\n",
       "      <td>Insurgent</td>\n",
       "      <td>Robert Schwentke</td>\n",
       "      <td>based on novel|revolution|dystopia|sequel|dyst...</td>\n",
       "      <td>119</td>\n",
       "      <td>[Adventure, Science Fiction, Thriller]</td>\n",
       "      <td>2480</td>\n",
       "      <td>6.3</td>\n",
       "      <td>2015</td>\n",
       "      <td>1.012000e+08</td>\n",
       "      <td>2.716190e+08</td>\n",
       "      <td>2010s</td>\n",
       "      <td>False</td>\n",
       "    </tr>\n",
       "  </tbody>\n",
       "</table>\n",
       "</div>"
      ],
      "text/plain": [
       "       id  popularity      original_title          director  \\\n",
       "0  135397   32.985763      Jurassic World   Colin Trevorrow   \n",
       "1   76341   28.419936  Mad Max: Fury Road     George Miller   \n",
       "2  262500   13.112507           Insurgent  Robert Schwentke   \n",
       "\n",
       "                                            keywords  runtime  \\\n",
       "0  monster|dna|tyrannosaurus rex|velociraptor|island      124   \n",
       "1   future|chase|post-apocalyptic|dystopia|australia      120   \n",
       "2  based on novel|revolution|dystopia|sequel|dyst...      119   \n",
       "\n",
       "                                           genres  vote_count  vote_average  \\\n",
       "0  [Action, Adventure, Science Fiction, Thriller]        5562           6.5   \n",
       "1  [Action, Adventure, Science Fiction, Thriller]        6185           7.1   \n",
       "2          [Adventure, Science Fiction, Thriller]        2480           6.3   \n",
       "\n",
       "   release_year    budget_adj   revenue_adj decades  horror  \n",
       "0          2015  1.379999e+08  1.392446e+09   2010s   False  \n",
       "1          2015  1.379999e+08  3.481613e+08   2010s   False  \n",
       "2          2015  1.012000e+08  2.716190e+08   2010s   False  "
      ]
     },
     "execution_count": 18,
     "metadata": {},
     "output_type": "execute_result"
    }
   ],
   "source": [
    "# the high-level overview of df_clean in shape and composition\n",
    "print(df_clean.shape)\n",
    "print(df_clean.info())\n",
    "df_clean.head(3)"
   ]
  },
  {
   "cell_type": "code",
   "execution_count": 19,
   "metadata": {},
   "outputs": [
    {
     "data": {
      "text/html": [
       "<div>\n",
       "<style scoped>\n",
       "    .dataframe tbody tr th:only-of-type {\n",
       "        vertical-align: middle;\n",
       "    }\n",
       "\n",
       "    .dataframe tbody tr th {\n",
       "        vertical-align: top;\n",
       "    }\n",
       "\n",
       "    .dataframe thead th {\n",
       "        text-align: right;\n",
       "    }\n",
       "</style>\n",
       "<table border=\"1\" class=\"dataframe\">\n",
       "  <thead>\n",
       "    <tr style=\"text-align: right;\">\n",
       "      <th></th>\n",
       "      <th>popularity</th>\n",
       "      <th>runtime</th>\n",
       "      <th>vote_count</th>\n",
       "      <th>vote_average</th>\n",
       "      <th>release_year</th>\n",
       "      <th>budget_adj</th>\n",
       "      <th>revenue_adj</th>\n",
       "    </tr>\n",
       "  </thead>\n",
       "  <tbody>\n",
       "    <tr>\n",
       "      <th>count</th>\n",
       "      <td>10772.000000</td>\n",
       "      <td>10772.000000</td>\n",
       "      <td>10772.000000</td>\n",
       "      <td>10772.000000</td>\n",
       "      <td>10772.000000</td>\n",
       "      <td>5.161000e+03</td>\n",
       "      <td>4.848000e+03</td>\n",
       "    </tr>\n",
       "    <tr>\n",
       "      <th>mean</th>\n",
       "      <td>0.650643</td>\n",
       "      <td>102.455347</td>\n",
       "      <td>219.114463</td>\n",
       "      <td>5.972289</td>\n",
       "      <td>2001.265503</td>\n",
       "      <td>3.694143e+07</td>\n",
       "      <td>1.151223e+08</td>\n",
       "    </tr>\n",
       "    <tr>\n",
       "      <th>std</th>\n",
       "      <td>1.003319</td>\n",
       "      <td>30.379156</td>\n",
       "      <td>577.826118</td>\n",
       "      <td>0.932877</td>\n",
       "      <td>12.825332</td>\n",
       "      <td>4.197228e+07</td>\n",
       "      <td>1.988706e+08</td>\n",
       "    </tr>\n",
       "    <tr>\n",
       "      <th>min</th>\n",
       "      <td>0.000188</td>\n",
       "      <td>2.000000</td>\n",
       "      <td>10.000000</td>\n",
       "      <td>1.500000</td>\n",
       "      <td>1960.000000</td>\n",
       "      <td>9.210911e-01</td>\n",
       "      <td>2.370705e+00</td>\n",
       "    </tr>\n",
       "    <tr>\n",
       "      <th>25%</th>\n",
       "      <td>0.209987</td>\n",
       "      <td>90.000000</td>\n",
       "      <td>17.000000</td>\n",
       "      <td>5.400000</td>\n",
       "      <td>1995.000000</td>\n",
       "      <td>8.131203e+06</td>\n",
       "      <td>1.046477e+07</td>\n",
       "    </tr>\n",
       "    <tr>\n",
       "      <th>50%</th>\n",
       "      <td>0.386176</td>\n",
       "      <td>99.000000</td>\n",
       "      <td>39.000000</td>\n",
       "      <td>6.000000</td>\n",
       "      <td>2006.000000</td>\n",
       "      <td>2.278180e+07</td>\n",
       "      <td>4.396405e+07</td>\n",
       "    </tr>\n",
       "    <tr>\n",
       "      <th>75%</th>\n",
       "      <td>0.718889</td>\n",
       "      <td>112.000000</td>\n",
       "      <td>147.000000</td>\n",
       "      <td>6.600000</td>\n",
       "      <td>2011.000000</td>\n",
       "      <td>5.008384e+07</td>\n",
       "      <td>1.316524e+08</td>\n",
       "    </tr>\n",
       "    <tr>\n",
       "      <th>max</th>\n",
       "      <td>32.985763</td>\n",
       "      <td>900.000000</td>\n",
       "      <td>9767.000000</td>\n",
       "      <td>9.200000</td>\n",
       "      <td>2015.000000</td>\n",
       "      <td>4.250000e+08</td>\n",
       "      <td>2.827124e+09</td>\n",
       "    </tr>\n",
       "  </tbody>\n",
       "</table>\n",
       "</div>"
      ],
      "text/plain": [
       "         popularity       runtime    vote_count  vote_average  release_year  \\\n",
       "count  10772.000000  10772.000000  10772.000000  10772.000000  10772.000000   \n",
       "mean       0.650643    102.455347    219.114463      5.972289   2001.265503   \n",
       "std        1.003319     30.379156    577.826118      0.932877     12.825332   \n",
       "min        0.000188      2.000000     10.000000      1.500000   1960.000000   \n",
       "25%        0.209987     90.000000     17.000000      5.400000   1995.000000   \n",
       "50%        0.386176     99.000000     39.000000      6.000000   2006.000000   \n",
       "75%        0.718889    112.000000    147.000000      6.600000   2011.000000   \n",
       "max       32.985763    900.000000   9767.000000      9.200000   2015.000000   \n",
       "\n",
       "         budget_adj   revenue_adj  \n",
       "count  5.161000e+03  4.848000e+03  \n",
       "mean   3.694143e+07  1.151223e+08  \n",
       "std    4.197228e+07  1.988706e+08  \n",
       "min    9.210911e-01  2.370705e+00  \n",
       "25%    8.131203e+06  1.046477e+07  \n",
       "50%    2.278180e+07  4.396405e+07  \n",
       "75%    5.008384e+07  1.316524e+08  \n",
       "max    4.250000e+08  2.827124e+09  "
      ]
     },
     "execution_count": 19,
     "metadata": {},
     "output_type": "execute_result"
    }
   ],
   "source": [
    "# descriptive statistics for numeric variables\n",
    "df_clean.describe()"
   ]
  },
  {
   "cell_type": "markdown",
   "metadata": {},
   "source": [
    "### What is the structure of your dataset?\n",
    "<br>\n",
    "There are 10,772 movies in the dataset with 14 attributes (id, popularity, original_title, director, keywords, runtime, genres, vote_count, vote_average, release_year, budget_adj, revenue_adj, decades, horror). Most attributes are numeric in nature, except variables decades and horror. Variable decades is an ordered factor variable following a chronological order. Variable horror holds boolean values. Details as follows:\n",
    "<br><br>\n",
    "decades: 1960s, 1970s, 1980s, 1990s, 2000s, 2010s <br>\n",
    "horror: True (meaning the film has 'horror' in its genre value), False\n",
    "<br><br>\n",
    "\n",
    "### What is/are the main feature(s) of interest in your dataset?\n",
    "<br>\n",
    "I'm mainly interested in figuring out how popular the horror films was over the years, including:\n",
    "\n",
    "- how has horror films grown in number in the movie market\n",
    "- how does horror films perform in the eyes of audience \n",
    "<br><br>\n",
    "\n",
    "### What features in the dataset do you think will help support your investigation into your feature(s) of interest?\n",
    "<br>\n",
    "id will help me count (absolute number) the number of horror films released throughout the years, and look at (relative frequency) the percentage of horror films in total released films over the years. vote_average and popularity will be my focus when comparing horror films and non-horror films. release_year and decades will help summarized data and unfold trends.\n",
    "<br><br>"
   ]
  },
  {
   "cell_type": "markdown",
   "metadata": {},
   "source": [
    "<a id='uni'></a>\n",
    "## Univariate Exploration"
   ]
  },
  {
   "cell_type": "markdown",
   "metadata": {},
   "source": [
    "I'll check the horror column first."
   ]
  },
  {
   "cell_type": "code",
   "execution_count": 20,
   "metadata": {},
   "outputs": [
    {
     "data": {
      "text/plain": [
       "Text(0.5,0,'# of horror & non-horror films')"
      ]
     },
     "execution_count": 20,
     "metadata": {},
     "output_type": "execute_result"
    },
    {
     "data": {
      "image/png": "[encoded data removed]",
      "text/plain": [
       "<matplotlib.figure.Figure at 0x7f74bfa3ac50>"
      ]
     },
     "metadata": {
      "needs_background": "light"
     },
     "output_type": "display_data"
    }
   ],
   "source": [
    "# plot a bar chart\n",
    "plt.figure(figsize=[8, 5])\n",
    "default_color = sns.color_palette()[0]\n",
    "sns.countplot(data = df_clean, x = 'horror', color = default_color)\n",
    "plt.xlabel('# of horror & non-horror films')"
   ]
  },
  {
   "cell_type": "markdown",
   "metadata": {},
   "source": [
    "The total number of non-horror films is over 4 times more than the number of horror films.\n",
    "<br><br>\n",
    "In bivariate exploration, I will the number of all movies over the years, and then specifically the number of horror films over the years."
   ]
  },
  {
   "cell_type": "markdown",
   "metadata": {},
   "source": [
    "Now I'll check popularity variable."
   ]
  },
  {
   "cell_type": "code",
   "execution_count": 21,
   "metadata": {},
   "outputs": [
    {
     "data": {
      "text/plain": [
       "Text(0.5,0,'Popularity')"
      ]
     },
     "execution_count": 21,
     "metadata": {},
     "output_type": "execute_result"
    },
    {
     "data": {
      "image/png": "[encoded data removed]",
      "text/plain": [
       "<matplotlib.figure.Figure at 0x7f74bf575208>"
      ]
     },
     "metadata": {
      "needs_background": "light"
     },
     "output_type": "display_data"
    }
   ],
   "source": [
    "# plot a standard-scaled histogram\n",
    "binsize = 0.05\n",
    "bins = np.arange(0, df_clean.popularity.max()+binsize, binsize)\n",
    "\n",
    "plt.figure(figsize=[15, 10])\n",
    "plt.hist(data = df_clean, x = 'popularity', bins = bins)\n",
    "plt.xlabel('Popularity')"
   ]
  },
  {
   "cell_type": "markdown",
   "metadata": {},
   "source": [
    "This plot shows some immediate points of attention. Most of the data falls on the far left of the axe, meaning strong outliers on the right. I need to identify these outliers. "
   ]
  },
  {
   "cell_type": "code",
   "execution_count": 22,
   "metadata": {},
   "outputs": [
    {
     "name": "stdout",
     "output_type": "stream",
     "text": [
      "11\n"
     ]
    },
    {
     "data": {
      "text/html": [
       "<div>\n",
       "<style scoped>\n",
       "    .dataframe tbody tr th:only-of-type {\n",
       "        vertical-align: middle;\n",
       "    }\n",
       "\n",
       "    .dataframe tbody tr th {\n",
       "        vertical-align: top;\n",
       "    }\n",
       "\n",
       "    .dataframe thead th {\n",
       "        text-align: right;\n",
       "    }\n",
       "</style>\n",
       "<table border=\"1\" class=\"dataframe\">\n",
       "  <thead>\n",
       "    <tr style=\"text-align: right;\">\n",
       "      <th></th>\n",
       "      <th>id</th>\n",
       "      <th>popularity</th>\n",
       "      <th>original_title</th>\n",
       "      <th>director</th>\n",
       "      <th>keywords</th>\n",
       "      <th>runtime</th>\n",
       "      <th>genres</th>\n",
       "      <th>vote_count</th>\n",
       "      <th>vote_average</th>\n",
       "      <th>release_year</th>\n",
       "      <th>budget_adj</th>\n",
       "      <th>revenue_adj</th>\n",
       "      <th>decades</th>\n",
       "      <th>horror</th>\n",
       "    </tr>\n",
       "  </thead>\n",
       "  <tbody>\n",
       "    <tr>\n",
       "      <th>634</th>\n",
       "      <td>122917</td>\n",
       "      <td>10.174599</td>\n",
       "      <td>The Hobbit: The Battle of the Five Armies</td>\n",
       "      <td>Peter Jackson</td>\n",
       "      <td>corruption|elves|dwarves|orcs|middle-earth (to...</td>\n",
       "      <td>144</td>\n",
       "      <td>[Adventure, Fantasy]</td>\n",
       "      <td>3110</td>\n",
       "      <td>7.1</td>\n",
       "      <td>2014</td>\n",
       "      <td>2.302728e+08</td>\n",
       "      <td>8.797523e+08</td>\n",
       "      <td>2010s</td>\n",
       "      <td>False</td>\n",
       "    </tr>\n",
       "    <tr>\n",
       "      <th>633</th>\n",
       "      <td>131631</td>\n",
       "      <td>10.739009</td>\n",
       "      <td>The Hunger Games: Mockingjay - Part 1</td>\n",
       "      <td>Francis Lawrence</td>\n",
       "      <td>resistance|post-apocalyptic|dystopia|war|sequel</td>\n",
       "      <td>123</td>\n",
       "      <td>[Science Fiction, Adventure, Thriller]</td>\n",
       "      <td>3590</td>\n",
       "      <td>6.6</td>\n",
       "      <td>2014</td>\n",
       "      <td>1.151364e+08</td>\n",
       "      <td>6.927528e+08</td>\n",
       "      <td>2010s</td>\n",
       "      <td>False</td>\n",
       "    </tr>\n",
       "    <tr>\n",
       "      <th>3</th>\n",
       "      <td>140607</td>\n",
       "      <td>11.173104</td>\n",
       "      <td>Star Wars: The Force Awakens</td>\n",
       "      <td>J.J. Abrams</td>\n",
       "      <td>android|spaceship|jedi|space opera|3d</td>\n",
       "      <td>136</td>\n",
       "      <td>[Action, Adventure, Science Fiction, Fantasy]</td>\n",
       "      <td>5292</td>\n",
       "      <td>7.5</td>\n",
       "      <td>2015</td>\n",
       "      <td>1.839999e+08</td>\n",
       "      <td>1.902723e+09</td>\n",
       "      <td>2010s</td>\n",
       "      <td>False</td>\n",
       "    </tr>\n",
       "    <tr>\n",
       "      <th>632</th>\n",
       "      <td>245891</td>\n",
       "      <td>11.422751</td>\n",
       "      <td>John Wick</td>\n",
       "      <td>Chad Stahelski|David Leitch</td>\n",
       "      <td>hitman|revenge|murder|gangster|dog</td>\n",
       "      <td>101</td>\n",
       "      <td>[Action, Thriller]</td>\n",
       "      <td>2712</td>\n",
       "      <td>7.0</td>\n",
       "      <td>2014</td>\n",
       "      <td>1.842182e+07</td>\n",
       "      <td>7.252661e+07</td>\n",
       "      <td>2010s</td>\n",
       "      <td>False</td>\n",
       "    </tr>\n",
       "    <tr>\n",
       "      <th>1329</th>\n",
       "      <td>11</td>\n",
       "      <td>12.037933</td>\n",
       "      <td>Star Wars</td>\n",
       "      <td>George Lucas</td>\n",
       "      <td>android|galaxy|hermit|death star|lightsaber</td>\n",
       "      <td>121</td>\n",
       "      <td>[Adventure, Action, Science Fiction]</td>\n",
       "      <td>4428</td>\n",
       "      <td>7.9</td>\n",
       "      <td>1977</td>\n",
       "      <td>3.957559e+07</td>\n",
       "      <td>2.789712e+09</td>\n",
       "      <td>1970s</td>\n",
       "      <td>False</td>\n",
       "    </tr>\n",
       "    <tr>\n",
       "      <th>631</th>\n",
       "      <td>100402</td>\n",
       "      <td>12.971027</td>\n",
       "      <td>Captain America: The Winter Soldier</td>\n",
       "      <td>Joe Russo|Anthony Russo</td>\n",
       "      <td>washington d.c.|future|shield|marvel comic|comic</td>\n",
       "      <td>136</td>\n",
       "      <td>[Action, Adventure, Science Fiction]</td>\n",
       "      <td>3848</td>\n",
       "      <td>7.6</td>\n",
       "      <td>2014</td>\n",
       "      <td>1.565855e+08</td>\n",
       "      <td>6.583651e+08</td>\n",
       "      <td>2010s</td>\n",
       "      <td>False</td>\n",
       "    </tr>\n",
       "    <tr>\n",
       "      <th>2</th>\n",
       "      <td>262500</td>\n",
       "      <td>13.112507</td>\n",
       "      <td>Insurgent</td>\n",
       "      <td>Robert Schwentke</td>\n",
       "      <td>based on novel|revolution|dystopia|sequel|dyst...</td>\n",
       "      <td>119</td>\n",
       "      <td>[Adventure, Science Fiction, Thriller]</td>\n",
       "      <td>2480</td>\n",
       "      <td>6.3</td>\n",
       "      <td>2015</td>\n",
       "      <td>1.012000e+08</td>\n",
       "      <td>2.716190e+08</td>\n",
       "      <td>2010s</td>\n",
       "      <td>False</td>\n",
       "    </tr>\n",
       "    <tr>\n",
       "      <th>630</th>\n",
       "      <td>118340</td>\n",
       "      <td>14.311205</td>\n",
       "      <td>Guardians of the Galaxy</td>\n",
       "      <td>James Gunn</td>\n",
       "      <td>marvel comic|spaceship|space|scene during end ...</td>\n",
       "      <td>121</td>\n",
       "      <td>[Action, Science Fiction, Adventure]</td>\n",
       "      <td>5612</td>\n",
       "      <td>7.9</td>\n",
       "      <td>2014</td>\n",
       "      <td>1.565855e+08</td>\n",
       "      <td>7.122911e+08</td>\n",
       "      <td>2010s</td>\n",
       "      <td>False</td>\n",
       "    </tr>\n",
       "    <tr>\n",
       "      <th>629</th>\n",
       "      <td>157336</td>\n",
       "      <td>24.949134</td>\n",
       "      <td>Interstellar</td>\n",
       "      <td>Christopher Nolan</td>\n",
       "      <td>saving the world|artificial intelligence|fathe...</td>\n",
       "      <td>169</td>\n",
       "      <td>[Adventure, Drama, Science Fiction]</td>\n",
       "      <td>6498</td>\n",
       "      <td>8.0</td>\n",
       "      <td>2014</td>\n",
       "      <td>1.519800e+08</td>\n",
       "      <td>5.726906e+08</td>\n",
       "      <td>2010s</td>\n",
       "      <td>False</td>\n",
       "    </tr>\n",
       "    <tr>\n",
       "      <th>1</th>\n",
       "      <td>76341</td>\n",
       "      <td>28.419936</td>\n",
       "      <td>Mad Max: Fury Road</td>\n",
       "      <td>George Miller</td>\n",
       "      <td>future|chase|post-apocalyptic|dystopia|australia</td>\n",
       "      <td>120</td>\n",
       "      <td>[Action, Adventure, Science Fiction, Thriller]</td>\n",
       "      <td>6185</td>\n",
       "      <td>7.1</td>\n",
       "      <td>2015</td>\n",
       "      <td>1.379999e+08</td>\n",
       "      <td>3.481613e+08</td>\n",
       "      <td>2010s</td>\n",
       "      <td>False</td>\n",
       "    </tr>\n",
       "    <tr>\n",
       "      <th>0</th>\n",
       "      <td>135397</td>\n",
       "      <td>32.985763</td>\n",
       "      <td>Jurassic World</td>\n",
       "      <td>Colin Trevorrow</td>\n",
       "      <td>monster|dna|tyrannosaurus rex|velociraptor|island</td>\n",
       "      <td>124</td>\n",
       "      <td>[Action, Adventure, Science Fiction, Thriller]</td>\n",
       "      <td>5562</td>\n",
       "      <td>6.5</td>\n",
       "      <td>2015</td>\n",
       "      <td>1.379999e+08</td>\n",
       "      <td>1.392446e+09</td>\n",
       "      <td>2010s</td>\n",
       "      <td>False</td>\n",
       "    </tr>\n",
       "  </tbody>\n",
       "</table>\n",
       "</div>"
      ],
      "text/plain": [
       "          id  popularity                             original_title  \\\n",
       "634   122917   10.174599  The Hobbit: The Battle of the Five Armies   \n",
       "633   131631   10.739009      The Hunger Games: Mockingjay - Part 1   \n",
       "3     140607   11.173104               Star Wars: The Force Awakens   \n",
       "632   245891   11.422751                                  John Wick   \n",
       "1329      11   12.037933                                  Star Wars   \n",
       "631   100402   12.971027        Captain America: The Winter Soldier   \n",
       "2     262500   13.112507                                  Insurgent   \n",
       "630   118340   14.311205                    Guardians of the Galaxy   \n",
       "629   157336   24.949134                               Interstellar   \n",
       "1      76341   28.419936                         Mad Max: Fury Road   \n",
       "0     135397   32.985763                             Jurassic World   \n",
       "\n",
       "                         director  \\\n",
       "634                 Peter Jackson   \n",
       "633              Francis Lawrence   \n",
       "3                     J.J. Abrams   \n",
       "632   Chad Stahelski|David Leitch   \n",
       "1329                 George Lucas   \n",
       "631       Joe Russo|Anthony Russo   \n",
       "2                Robert Schwentke   \n",
       "630                    James Gunn   \n",
       "629             Christopher Nolan   \n",
       "1                   George Miller   \n",
       "0                 Colin Trevorrow   \n",
       "\n",
       "                                               keywords  runtime  \\\n",
       "634   corruption|elves|dwarves|orcs|middle-earth (to...      144   \n",
       "633     resistance|post-apocalyptic|dystopia|war|sequel      123   \n",
       "3                 android|spaceship|jedi|space opera|3d      136   \n",
       "632                  hitman|revenge|murder|gangster|dog      101   \n",
       "1329        android|galaxy|hermit|death star|lightsaber      121   \n",
       "631    washington d.c.|future|shield|marvel comic|comic      136   \n",
       "2     based on novel|revolution|dystopia|sequel|dyst...      119   \n",
       "630   marvel comic|spaceship|space|scene during end ...      121   \n",
       "629   saving the world|artificial intelligence|fathe...      169   \n",
       "1      future|chase|post-apocalyptic|dystopia|australia      120   \n",
       "0     monster|dna|tyrannosaurus rex|velociraptor|island      124   \n",
       "\n",
       "                                              genres  vote_count  \\\n",
       "634                             [Adventure, Fantasy]        3110   \n",
       "633           [Science Fiction, Adventure, Thriller]        3590   \n",
       "3      [Action, Adventure, Science Fiction, Fantasy]        5292   \n",
       "632                               [Action, Thriller]        2712   \n",
       "1329            [Adventure, Action, Science Fiction]        4428   \n",
       "631             [Action, Adventure, Science Fiction]        3848   \n",
       "2             [Adventure, Science Fiction, Thriller]        2480   \n",
       "630             [Action, Science Fiction, Adventure]        5612   \n",
       "629              [Adventure, Drama, Science Fiction]        6498   \n",
       "1     [Action, Adventure, Science Fiction, Thriller]        6185   \n",
       "0     [Action, Adventure, Science Fiction, Thriller]        5562   \n",
       "\n",
       "      vote_average  release_year    budget_adj   revenue_adj decades  horror  \n",
       "634            7.1          2014  2.302728e+08  8.797523e+08   2010s   False  \n",
       "633            6.6          2014  1.151364e+08  6.927528e+08   2010s   False  \n",
       "3              7.5          2015  1.839999e+08  1.902723e+09   2010s   False  \n",
       "632            7.0          2014  1.842182e+07  7.252661e+07   2010s   False  \n",
       "1329           7.9          1977  3.957559e+07  2.789712e+09   1970s   False  \n",
       "631            7.6          2014  1.565855e+08  6.583651e+08   2010s   False  \n",
       "2              6.3          2015  1.012000e+08  2.716190e+08   2010s   False  \n",
       "630            7.9          2014  1.565855e+08  7.122911e+08   2010s   False  \n",
       "629            8.0          2014  1.519800e+08  5.726906e+08   2010s   False  \n",
       "1              7.1          2015  1.379999e+08  3.481613e+08   2010s   False  \n",
       "0              6.5          2015  1.379999e+08  1.392446e+09   2010s   False  "
      ]
     },
     "execution_count": 22,
     "metadata": {},
     "output_type": "execute_result"
    }
   ],
   "source": [
    "# select high outliers by obervation from the plot\n",
    "high_outliers = (df_clean['popularity'] > 10) \n",
    "print(high_outliers.sum())\n",
    "df_clean.loc[high_outliers,:].sort_values(by='popularity')"
   ]
  },
  {
   "cell_type": "markdown",
   "metadata": {},
   "source": [
    "There are 11 high outliers away from the major block of distribution, with the top 3 being 24.949134, 28.419936, 32.985763. They are valid data, just with high popularity. "
   ]
  },
  {
   "cell_type": "code",
   "execution_count": 23,
   "metadata": {},
   "outputs": [
    {
     "data": {
      "text/plain": [
       "(0, 10)"
      ]
     },
     "execution_count": 23,
     "metadata": {},
     "output_type": "execute_result"
    },
    {
     "data": {
      "image/png": "[encoded data removed]",
      "text/plain": [
       "<matplotlib.figure.Figure at 0x7f74bf45bf98>"
      ]
     },
     "metadata": {
      "needs_background": "light"
     },
     "output_type": "display_data"
    }
   ],
   "source": [
    "# set the ceiling for popularity and replot a distribution\n",
    "binsize = 0.005\n",
    "bins = np.arange(0, df_clean.popularity.max()+binsize, binsize)\n",
    "\n",
    "plt.figure(figsize=[15, 10])\n",
    "plt.hist(data = df_clean, x = 'popularity', bins = bins)\n",
    "plt.xlabel('Popularity')\n",
    "plt.xlim([0, 10])"
   ]
  },
  {
   "cell_type": "markdown",
   "metadata": {},
   "source": [
    "Popularity has a long-tailed distribution. A large amount of films falls on the low popularity end, with popularity of less than 1 point to be exact. <br>\n",
    "The gap in popularity is huge. Huge amounts of movies with popularity of less than 1 while blockbusters like 'Guardians of the Galaxy' and 'Jurassic World' get rocket-high popularity of more than 25.<br><br>\n",
    "I plan on exploring popularity of horror and non-horror films in bivariate exploration and see if there's a wide spread exists in the particular horror genre."
   ]
  },
  {
   "cell_type": "markdown",
   "metadata": {},
   "source": [
    "Next I'll look at variable vote_average."
   ]
  },
  {
   "cell_type": "code",
   "execution_count": 24,
   "metadata": {},
   "outputs": [
    {
     "data": {
      "text/plain": [
       "Text(0.5,0,'Average Rating')"
      ]
     },
     "execution_count": 24,
     "metadata": {},
     "output_type": "execute_result"
    },
    {
     "data": {
      "image/png": "[encoded data removed]",
      "text/plain": [
       "<matplotlib.figure.Figure at 0x7f74beeff080>"
      ]
     },
     "metadata": {
      "needs_background": "light"
     },
     "output_type": "display_data"
    }
   ],
   "source": [
    "# plot a standard-scaled histogram\n",
    "binsize = 0.5\n",
    "bins = np.arange(0, df_clean.vote_average.max()+binsize, binsize)\n",
    "\n",
    "plt.figure(figsize=[15, 10])\n",
    "plt.hist(data = df_clean, x = 'vote_average', bins = bins)\n",
    "plt.xlabel('Average Rating')"
   ]
  },
  {
   "cell_type": "code",
   "execution_count": 25,
   "metadata": {},
   "outputs": [
    {
     "data": {
      "text/plain": [
       "Text(0.5,0,'Average Vote')"
      ]
     },
     "execution_count": 25,
     "metadata": {},
     "output_type": "execute_result"
    },
    {
     "data": {
      "image/png": "[encoded data removed]",
      "text/plain": [
       "<matplotlib.figure.Figure at 0x7f74bf5075f8>"
      ]
     },
     "metadata": {
      "needs_background": "light"
     },
     "output_type": "display_data"
    }
   ],
   "source": [
    "# further investigate on a smaller bin size\n",
    "binsize = 0.3\n",
    "bins = np.arange(0, df_clean.vote_average.max()+binsize, binsize)\n",
    "\n",
    "plt.figure(figsize=[15, 10])\n",
    "plt.hist(data = df_clean, x = 'vote_average', bins = bins)\n",
    "plt.xlabel('Average Vote')"
   ]
  },
  {
   "cell_type": "markdown",
   "metadata": {},
   "source": [
    "vote_average is unimodal, although the distribution is slightly left skewed. Big part of the data falls between 5 to 7. \n",
    "<br><br>\n",
    "In bivarate exploration, I plan on finding out the vote_average of horror and non-horror films."
   ]
  },
  {
   "cell_type": "markdown",
   "metadata": {},
   "source": [
    "### Discuss the distribution(s) of your variable(s) of interest. Were there any unusual points? Did you need to perform any transformations?\n",
    "\n",
    "The horror variable shows that the total number of non-horror films is over 4 times more than the number of horror films.\n",
    "\n",
    "### Of the features you investigated, were there any unusual distributions? Did you perform any operations on the data to tidy, adjust, or change the form of the data? If so, why did you do this?\n",
    "\n",
    "When exploring popularity variable, a few strong outliers were observed. These points are valid with very high popularity value. To further investigate the distribution, I filter out the outliers. The popularity shows a long-tailed distribution, with a large amount of films falls on the low popularity end. \n"
   ]
  },
  {
   "cell_type": "markdown",
   "metadata": {},
   "source": [
    "<a id='bi'></a>\n",
    "## Bivariate Exploration"
   ]
  },
  {
   "cell_type": "markdown",
   "metadata": {},
   "source": [
    "First, I'll look at the number of films released over the years."
   ]
  },
  {
   "cell_type": "code",
   "execution_count": 26,
   "metadata": {},
   "outputs": [],
   "source": [
    "# group by release_year and get the count of movies for each year\n",
    "yrs_movies = df_clean.groupby('release_year').count()['id']\n",
    "movies_by_years = yrs_movies.values\n",
    "# get all the release_year values\n",
    "years = yrs_movies.index"
   ]
  },
  {
   "cell_type": "code",
   "execution_count": 27,
   "metadata": {},
   "outputs": [
    {
     "data": {
      "text/plain": [
       "Text(0,0.5,'Number of Movies')"
      ]
     },
     "execution_count": 27,
     "metadata": {},
     "output_type": "execute_result"
    },
    {
     "data": {
      "image/png": "[encoded data removed]",
      "text/plain": [
       "<matplotlib.figure.Figure at 0x7f74beb7ec88>"
      ]
     },
     "metadata": {
      "needs_background": "light"
     },
     "output_type": "display_data"
    }
   ],
   "source": [
    "# plot a line chart\n",
    "plt.figure(figsize=(15,8))\n",
    "plt.plot(years, movies_by_years, color = 'g', alpha = 0.8)\n",
    "\n",
    "# customize ticks, labels, and title    \n",
    "plt.xticks(np.arange(1960, 2015+5, 5), np.arange(1960, 2015+5, 5), fontsize = 16)\n",
    "plt.yticks(fontsize = 16)\n",
    "plt.xlabel('Year', fontweight = 'bold', fontsize = 18, labelpad = 20)\n",
    "plt.ylabel('Number of Movies', fontweight = 'bold', fontsize = 18, labelpad = 20)"
   ]
  },
  {
   "cell_type": "markdown",
   "metadata": {},
   "source": [
    "The number of movies released has an overall trend of increase from 1960 to 2015. Also, the number of movies released started to rocket up in 1995, and has been staying strong consistently since then. "
   ]
  },
  {
   "cell_type": "markdown",
   "metadata": {},
   "source": [
    "Moreover, I'd like to explore how fast the growth in number is, by setting three milestones 200, 400, 600, and checking how many years for the number of movies to reach these 3 milestones."
   ]
  },
  {
   "cell_type": "code",
   "execution_count": 28,
   "metadata": {},
   "outputs": [],
   "source": [
    "# get the years that first reach the threshold of 200, 400, 600 movies respectively\n",
    "# and get the number of movies corresponding to these years\n",
    "milestones = [200, 400, 600]\n",
    "yrs_milestones = []\n",
    "mvs_milestones = []\n",
    "for x in milestones:\n",
    "    yrs_milestones.append(yrs_movies[movies_by_years>x].index[0])\n",
    "    mvs_milestones.append(yrs_movies[movies_by_years>x].values[0])"
   ]
  },
  {
   "cell_type": "code",
   "execution_count": 29,
   "metadata": {},
   "outputs": [
    {
     "data": {
      "text/plain": [
       "Text(0,0.5,'Number of Movies')"
      ]
     },
     "execution_count": 29,
     "metadata": {},
     "output_type": "execute_result"
    },
    {
     "data": {
      "image/png": "[encoded data removed]",
      "text/plain": [
       "<matplotlib.figure.Figure at 0x7f74beeb44a8>"
      ]
     },
     "metadata": {
      "needs_background": "light"
     },
     "output_type": "display_data"
    }
   ],
   "source": [
    "# replot with annotations\n",
    "# plot the line chart\n",
    "plt.figure(figsize=(20,10))\n",
    "plt.plot(years, movies_by_years, color = 'g', alpha = 0.8)\n",
    "\n",
    "# add labels of points of interest\n",
    "for x,y in zip(yrs_milestones, mvs_milestones):\n",
    "    label = \"{} movies in {}\".format(y, x)\n",
    "    plt.annotate(label, (x,y)) \n",
    "\n",
    "plt.xticks(np.arange(1960, 2015+5, 5), np.arange(1960, 2015+5, 5), fontsize = 16)\n",
    "plt.yticks(fontsize = 16)\n",
    "plt.xlabel('Year', fontweight = 'bold', fontsize = 18, labelpad = 20)\n",
    "plt.ylabel('Number of Movies', fontweight = 'bold', fontsize = 18, labelpad = 20)"
   ]
  },
  {
   "cell_type": "markdown",
   "metadata": {},
   "source": [
    "It took the movie industry 36 years to reach 200 movies released record; 10 years to reach 400 movies threshold; 7 years to reach 600. Very impressive."
   ]
  },
  {
   "cell_type": "markdown",
   "metadata": {},
   "source": [
    "Now I'd like to focus on the growth in number of horror films over the years."
   ]
  },
  {
   "cell_type": "code",
   "execution_count": 30,
   "metadata": {},
   "outputs": [],
   "source": [
    "# filter only horror films\n",
    "df_horror = df_clean.query('horror == True')\n",
    "# group by release_year and get the count of movies for each year\n",
    "yrs_horror = df_horror.groupby('release_year').count()['id']\n",
    "horror_by_years = yrs_horror.values\n",
    "# get all the release_year values\n",
    "years = yrs_horror.index"
   ]
  },
  {
   "cell_type": "code",
   "execution_count": 31,
   "metadata": {},
   "outputs": [
    {
     "data": {
      "text/plain": [
       "Text(0,0.5,'Number of Horror Movies')"
      ]
     },
     "execution_count": 31,
     "metadata": {},
     "output_type": "execute_result"
    },
    {
     "data": {
      "image/png": "[encoded data removed]",
      "text/plain": [
       "<matplotlib.figure.Figure at 0x7f74beda90b8>"
      ]
     },
     "metadata": {
      "needs_background": "light"
     },
     "output_type": "display_data"
    }
   ],
   "source": [
    "# plot a line chart\n",
    "plt.figure(figsize=(15,8))\n",
    "plt.plot(years, movies_by_years, color = 'b', alpha = 0.8)\n",
    "\n",
    "# customize ticks, labels, and title    \n",
    "plt.xticks(np.arange(1960, 2015+5, 5), np.arange(1960, 2015+5, 5), fontsize = 16)\n",
    "plt.yticks(fontsize = 16)\n",
    "plt.xlabel('Year', fontweight = 'bold', fontsize = 18, labelpad = 20)\n",
    "plt.ylabel('Number of Horror Movies', fontweight = 'bold', fontsize = 18, labelpad = 20)"
   ]
  },
  {
   "cell_type": "markdown",
   "metadata": {},
   "source": [
    "Horror films showed similar pattern as oberved in the plot of all films. The number of horror movies released has an overall trend of increase from 1960 to 2015, although the trend is less smooth with rugged fluctuation. Since the year 2004, the number of horror movies started to substantially increase, which is in-part observed in the trend of all films.<br><br>\n",
    "It makes sense that when the total number of films increase, a great chance lies in a consistent increase in a certain genre of films. To understand more about how the number of horror films grows since 2004, besides looking at the absolute number, I also want to check the relative frequency. "
   ]
  },
  {
   "cell_type": "markdown",
   "metadata": {},
   "source": [
    "Now I move on to focus on horror films from 2004 to 2015. This time I'll explore horror films in percentage of all films. "
   ]
  },
  {
   "cell_type": "code",
   "execution_count": 32,
   "metadata": {},
   "outputs": [],
   "source": [
    "# create a dataframe includes only release_year in and after 2004\n",
    "df_horror_2 = df_horror.query('release_year >= 2004')"
   ]
  },
  {
   "cell_type": "code",
   "execution_count": 33,
   "metadata": {},
   "outputs": [],
   "source": [
    "# get the total of horror films per year since 2004\n",
    "counts_horror = df_horror_2.groupby('release_year').count()['id']\n",
    "# get the total of films per year since 1990\n",
    "totals = df_clean.query('release_year >= 1990').groupby('release_year').count()['id']\n",
    "# compute the proportion of horror films in films released per year\n",
    "horror_proportion = counts_horror/totals"
   ]
  },
  {
   "cell_type": "code",
   "execution_count": 34,
   "metadata": {},
   "outputs": [],
   "source": [
    "# get the release_year data for x-axis\n",
    "release_years = horror_proportion.index\n",
    "# get the proportion values for y-axis\n",
    "proportions = horror_proportion.values"
   ]
  },
  {
   "cell_type": "code",
   "execution_count": 35,
   "metadata": {},
   "outputs": [
    {
     "data": {
      "text/plain": [
       "Text(0.5,0,'Year')"
      ]
     },
     "execution_count": 35,
     "metadata": {},
     "output_type": "execute_result"
    },
    {
     "data": {
      "image/png": "[encoded data removed]",
      "text/plain": [
       "<matplotlib.figure.Figure at 0x7f74bee09550>"
      ]
     },
     "metadata": {
      "needs_background": "light"
     },
     "output_type": "display_data"
    }
   ],
   "source": [
    "# plot a line chart\n",
    "plt.figure(figsize=(10,6))\n",
    "plt.plot(release_years, proportions, color = 'g', alpha = 0.8)\n",
    "\n",
    "# customize ticks, labels, and title  \n",
    "plt.xticks(fontsize = 16)\n",
    "plt.yticks(fontsize = 16)\n",
    "plt.xlabel('Year', fontweight = 'bold', fontsize = 18, labelpad = 20)"
   ]
  },
  {
   "cell_type": "markdown",
   "metadata": {},
   "source": [
    "Horror genre has an overall upward trend in its percentage among all films. It started from less than 10% back in 2004 to almost 20% in 2015. Considering how fast the whole movie industry was growing during that same period, it's even more impressive to see such increase in percentage. It shows horror film had been achieving a bigger share of the pie in movie industry and movie-makers were motivated to make more horror films for the market."
   ]
  },
  {
   "cell_type": "markdown",
   "metadata": {},
   "source": [
    "With exploration of how popular horror films had been over the years in the movie market, next I'll switch gear and check the vote_average and popularity of horror films."
   ]
  },
  {
   "cell_type": "markdown",
   "metadata": {},
   "source": [
    "For vote_average and popularity, I'll compare horror films with non-horror films."
   ]
  },
  {
   "cell_type": "markdown",
   "metadata": {},
   "source": [
    "I'll use both violin plots and box plots for vote_average and horror variables."
   ]
  },
  {
   "cell_type": "code",
   "execution_count": 36,
   "metadata": {},
   "outputs": [
    {
     "data": {
      "text/plain": [
       "(0.64077608019693955, 9.905591517924087)"
      ]
     },
     "execution_count": 36,
     "metadata": {},
     "output_type": "execute_result"
    },
    {
     "data": {
      "image/png": "[encoded data removed]",
      "text/plain": [
       "<matplotlib.figure.Figure at 0x7f74bed984a8>"
      ]
     },
     "metadata": {
      "needs_background": "light"
     },
     "output_type": "display_data"
    }
   ],
   "source": [
    "plt.figure(figsize = [10, 5])\n",
    "    \n",
    "# left plot: violin plot\n",
    "plt.subplot(1, 2, 1)\n",
    "ax1 = sns.violinplot(data = df_clean, x = 'horror', y = 'vote_average', inner = None)\n",
    "    \n",
    "# right plot: box plot\n",
    "plt.subplot(1, 2, 2)\n",
    "ax2  = sns.boxplot(data = df_clean, x = 'horror', y = 'vote_average')\n",
    "\n",
    "# set y-axis limits to be same as left plot\n",
    "plt.ylim(ax1.get_ylim()) "
   ]
  },
  {
   "cell_type": "markdown",
   "metadata": {},
   "source": [
    "In the violin plots, it appears that non-horror films and horror films show similar unimodal distribution, and both with a slightly left-skewed, suggesting median larger than mean for both horror and non-horror films. \n",
    "<br><br>\n",
    "In the box plots, non-horror films exceeds horror films in vote_average, with larger minimum, maximum, first quartile, third quartile and median of the distribution.\n",
    "<br><br>\n",
    "Thus, in terms of vote_average, horror films are infavorable compared with non-horror.\n",
    "<br><br>"
   ]
  },
  {
   "cell_type": "markdown",
   "metadata": {},
   "source": [
    "Now I'll compare horror and non-horror films by popularity."
   ]
  },
  {
   "cell_type": "markdown",
   "metadata": {},
   "source": [
    "With the exploration of popularity in the first section, I already know that there're some strong outliers with high popularity. But before taking them off, I decide to first use violin plots to see the distributions in both horror and non-horror."
   ]
  },
  {
   "cell_type": "code",
   "execution_count": 37,
   "metadata": {},
   "outputs": [
    {
     "data": {
      "image/png": "[encoded data removed]",
      "text/plain": [
       "<matplotlib.figure.Figure at 0x7f74becce908>"
      ]
     },
     "metadata": {
      "needs_background": "light"
     },
     "output_type": "display_data"
    }
   ],
   "source": [
    "plt.figure(figsize = [8, 8])   \n",
    "# violin plot\n",
    "plt.subplot(1, 2, 1)\n",
    "ax1 = sns.violinplot(data = df_clean, x = 'horror', y = 'popularity', inner = None)"
   ]
  },
  {
   "cell_type": "markdown",
   "metadata": {},
   "source": [
    "There're two interesting obervations. Non-horror films has a much longer right tail that horor films, suggesting most of the huge outliers are non-horror films. Also, horror films appears to have a much slimmer unimodal distribution."
   ]
  },
  {
   "cell_type": "markdown",
   "metadata": {},
   "source": [
    "I'll reuse the codes and perform both violin plots and box plots for popularity and horror variables. This time, I'll set the ceiling for popularity based on visual assessment."
   ]
  },
  {
   "cell_type": "code",
   "execution_count": 38,
   "metadata": {},
   "outputs": [
    {
     "data": {
      "text/plain": [
       "(-0.56250595092643396, 6.5476889509264335)"
      ]
     },
     "execution_count": 38,
     "metadata": {},
     "output_type": "execute_result"
    },
    {
     "data": {
      "image/png": "[encoded data removed]",
      "text/plain": [
       "<matplotlib.figure.Figure at 0x7f74be8cda58>"
      ]
     },
     "metadata": {
      "needs_background": "light"
     },
     "output_type": "display_data"
    }
   ],
   "source": [
    "df_ceiling = df_clean.query('popularity <= 6')\n",
    "plt.figure(figsize = [10, 5])\n",
    "    \n",
    "# left plot: violin plot\n",
    "plt.subplot(1, 2, 1)\n",
    "ax1 = sns.violinplot(data = df_ceiling, x = 'horror', y = 'popularity', inner = None)\n",
    "# right plot: box plot\n",
    "plt.subplot(1, 2, 2)\n",
    "ax2 = sns.boxplot(data = df_ceiling, x = 'horror', y = 'popularity')\n",
    "\n",
    "# set y-axis limits to be same as left plot\n",
    "plt.ylim(ax1.get_ylim()) "
   ]
  },
  {
   "cell_type": "markdown",
   "metadata": {},
   "source": [
    "In the violin plots, it appears that non-horror films and horror films both show unimodal distribution, and both with a long right tail, suggesting strong outliers. \n",
    "<br><br>\n",
    "In the box plots, non-horror films exceeds horror films with larger maximum and third quartile. Both median values falls way behind 1.  "
   ]
  },
  {
   "cell_type": "markdown",
   "metadata": {},
   "source": [
    "### Talk about some of the relationships you observed in this part of the investigation. How did the feature(s) of interest vary with other features in the dataset?\n",
    "The number of movies has an overall trend of increase from 1960 to 2015, especially after 1995. Under this climate, the horror films shows an upward trend in number from 1960 to 2015, and witnessed substantially increase since 2004. <br><br>\n",
    "Horror films in its percentage among all films since 2004 shows consistent pattern. But it also tells a more impressive story. The percentage started from less than 10% back in 2004 to almost 20% in 2015. <br><br>\n",
    "### Did you observe any interesting relationships between the other features (not the main feature(s) of interest)?\n",
    "Non-horror films appears to be more favorable than horror films in terms of average rating. This is much less obvious in popularity. However, horror genre fell short in providing movies with huge success in popularity. All of those rendering massive popularity are non-horror films.\n"
   ]
  },
  {
   "cell_type": "markdown",
   "metadata": {},
   "source": [
    "<a id='multi'></a>\n",
    "## Multivariate Exploration"
   ]
  },
  {
   "cell_type": "markdown",
   "metadata": {},
   "source": [
    "Next, I'll try to investigate further by adding decades to see how the vote_average and popularity of horror and non-horror films change over decades."
   ]
  },
  {
   "cell_type": "code",
   "execution_count": 41,
   "metadata": {},
   "outputs": [],
   "source": [
    "# the median of vote_average for horror and non-horror in each decade \n",
    "df_v = df_clean.groupby(['decades', 'horror'], as_index = False)['vote_average'].median()"
   ]
  },
  {
   "cell_type": "code",
   "execution_count": 42,
   "metadata": {},
   "outputs": [
    {
     "data": {
      "text/plain": [
       "<matplotlib.legend.Legend at 0x7f74be7ea860>"
      ]
     },
     "execution_count": 42,
     "metadata": {},
     "output_type": "execute_result"
    },
    {
     "data": {
      "image/png": "[encoded data removed]",
      "text/plain": [
       "<matplotlib.figure.Figure at 0x7f74bc42f668>"
      ]
     },
     "metadata": {
      "needs_background": "light"
     },
     "output_type": "display_data"
    }
   ],
   "source": [
    "labels = ['non-horror', 'horror']\n",
    "# plot the bar chart\n",
    "plt.figure(figsize=(10,8))\n",
    "ax = sns.barplot(data = df_v, x = 'decades', y = 'vote_average', hue = 'horror')\n",
    "# set the labels\n",
    "h, l = ax.get_legend_handles_labels()\n",
    "ax.legend(h, labels, loc = 1, ncol = 2, framealpha = 1, title = 'genre')"
   ]
  },
  {
   "cell_type": "markdown",
   "metadata": {},
   "source": [
    "In every decade, the median vote_average of non-horror films is always higher than that of horror films. <br><br>The vote_average of non-horror films appears to be quite consistent over the decades. In contrast, the vote_average of horror films kept decreasing decade by decade."
   ]
  },
  {
   "cell_type": "code",
   "execution_count": 43,
   "metadata": {},
   "outputs": [],
   "source": [
    "# the median of popularity for horror and non-horror in each decade \n",
    "df_p = df_clean.groupby(['decades', 'horror'], as_index = False)['popularity'].median()"
   ]
  },
  {
   "cell_type": "code",
   "execution_count": 44,
   "metadata": {},
   "outputs": [
    {
     "data": {
      "text/plain": [
       "<matplotlib.legend.Legend at 0x7f74bc3db940>"
      ]
     },
     "execution_count": 44,
     "metadata": {},
     "output_type": "execute_result"
    },
    {
     "data": {
      "image/png": "[encoded data removed]",
      "text/plain": [
       "<matplotlib.figure.Figure at 0x7f74bc3c8cf8>"
      ]
     },
     "metadata": {
      "needs_background": "light"
     },
     "output_type": "display_data"
    }
   ],
   "source": [
    "# plot the bar chart\n",
    "plt.figure(figsize=(10,8))\n",
    "ax = sns.barplot(data = df_p, x = 'decades', y = 'popularity', hue = 'horror')\n",
    "# set the labels\n",
    "h, l = ax.get_legend_handles_labels()\n",
    "ax.legend(h, labels, loc = 2, ncol = 2, framealpha = 1, title = 'genre')"
   ]
  },
  {
   "cell_type": "markdown",
   "metadata": {},
   "source": [
    "In every decade, non-horror films won horror films in popularity. <br><br>Over the decades, popularity of horror films reached peak in 1990s. "
   ]
  },
  {
   "cell_type": "markdown",
   "metadata": {},
   "source": [
    "### Talk about some of the relationships you observed in this part of the investigation. Were there features that strengthened each other in terms of looking at your feature(s) of interest?\n",
    "I investigate further on vote_average and popularity of horror vs. non-horror films in the section by introducing decades categorical variable into the play. In every decade, the vote_average and popularity of non-horror films is always higher than those of horror films. Horror as a genre never stood out among other genres over the decades. It shows itself still a less-favorable genre in the eyes of audience by the rating people voted and popularity it rendered.\n",
    "\n",
    "\n",
    "### Were there any interesting or surprising interactions between features?\n",
    "In bivariate exploration section, I oberved that movie-makers made more and more horror films and pushed the increase of the genre's percentage among all films. I am suprised to see that the popularity and vote_average don't follow the trend. Both show constant decrease over the past two decades."
   ]
  },
  {
   "cell_type": "code",
   "execution_count": 45,
   "metadata": {},
   "outputs": [],
   "source": [
    "# export the dataframe to a csv file\n",
    "df_clean.to_csv('tmdb-movies_clean.csv', index = None)"
   ]
  },
  {
   "cell_type": "code",
   "execution_count": null,
   "metadata": {},
   "outputs": [],
   "source": []
  }
 ],
 "metadata": {
  "kernelspec": {
   "display_name": "Python 3",
   "language": "python",
   "name": "python3"
  },
  "language_info": {
   "codemirror_mode": {
    "name": "ipython",
    "version": 3
   },
   "file_extension": ".py",
   "mimetype": "text/x-python",
   "name": "python",
   "nbconvert_exporter": "python",
   "pygments_lexer": "ipython3",
   "version": "3.6.3"
  }
 },
 "nbformat": 4,
 "nbformat_minor": 2
}
